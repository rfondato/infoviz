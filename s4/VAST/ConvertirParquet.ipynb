{
 "cells": [
  {
   "cell_type": "code",
   "execution_count": 1,
   "id": "dfcd30b7-5192-40ad-ba96-1e902252094d",
   "metadata": {},
   "outputs": [],
   "source": [
    "import pandas as pd"
   ]
  },
  {
   "cell_type": "code",
   "execution_count": 6,
   "id": "f6fdec79-fa12-4699-b140-2b8e0b8b9ba8",
   "metadata": {},
   "outputs": [],
   "source": [
    "import os\n",
    "\n",
    "def get_files(path, extension):\n",
    "    for file in os.listdir(path):\n",
    "        if os.path.isfile(os.path.join(path, file)) and file.endswith( extension ):\n",
    "            yield file"
   ]
  },
  {
   "cell_type": "code",
   "execution_count": 14,
   "id": "ee42f135-8206-49b5-bde0-46e178275c66",
   "metadata": {},
   "outputs": [
    {
     "name": "stdout",
     "output_type": "stream",
     "text": [
      "Procesando el archivo Apartments.csv\n",
      "Procesando el archivo Buildings.csv\n",
      "Procesando el archivo Employers.csv\n",
      "Procesando el archivo Jobs.csv\n",
      "Procesando el archivo Participants.csv\n",
      "Procesando el archivo Pubs.csv\n",
      "Procesando el archivo Restaurants.csv\n",
      "Procesando el archivo Schools.csv\n",
      "Procesando el archivo CheckinJournal.csv\n",
      "Procesando el archivo FinancialJournal.csv\n",
      "Procesando el archivo SocialNetwork.csv\n",
      "Procesando el archivo TravelJournal.csv\n",
      "Procesando el archivo ParticipantStatusLogs1.csv\n",
      "Procesando el archivo ParticipantStatusLogs10.csv\n",
      "Procesando el archivo ParticipantStatusLogs11.csv\n",
      "Procesando el archivo ParticipantStatusLogs12.csv\n",
      "Procesando el archivo ParticipantStatusLogs13.csv\n",
      "Procesando el archivo ParticipantStatusLogs14.csv\n",
      "Procesando el archivo ParticipantStatusLogs15.csv\n",
      "Procesando el archivo ParticipantStatusLogs16.csv\n",
      "Procesando el archivo ParticipantStatusLogs17.csv\n",
      "Procesando el archivo ParticipantStatusLogs18.csv\n",
      "Procesando el archivo ParticipantStatusLogs19.csv\n",
      "Procesando el archivo ParticipantStatusLogs2.csv\n",
      "Procesando el archivo ParticipantStatusLogs20.csv\n",
      "Procesando el archivo ParticipantStatusLogs21.csv\n",
      "Procesando el archivo ParticipantStatusLogs22.csv\n",
      "Procesando el archivo ParticipantStatusLogs23.csv\n",
      "Procesando el archivo ParticipantStatusLogs24.csv\n",
      "Procesando el archivo ParticipantStatusLogs25.csv\n",
      "Procesando el archivo ParticipantStatusLogs26.csv\n",
      "Procesando el archivo ParticipantStatusLogs27.csv\n",
      "Procesando el archivo ParticipantStatusLogs28.csv\n",
      "Procesando el archivo ParticipantStatusLogs29.csv\n",
      "Procesando el archivo ParticipantStatusLogs3.csv\n",
      "Procesando el archivo ParticipantStatusLogs30.csv\n",
      "Procesando el archivo ParticipantStatusLogs31.csv\n",
      "Procesando el archivo ParticipantStatusLogs32.csv\n",
      "Procesando el archivo ParticipantStatusLogs33.csv\n",
      "Procesando el archivo ParticipantStatusLogs34.csv\n",
      "Procesando el archivo ParticipantStatusLogs35.csv\n",
      "Procesando el archivo ParticipantStatusLogs36.csv\n",
      "Procesando el archivo ParticipantStatusLogs37.csv\n",
      "Procesando el archivo ParticipantStatusLogs38.csv\n",
      "Procesando el archivo ParticipantStatusLogs39.csv\n",
      "Procesando el archivo ParticipantStatusLogs4.csv\n",
      "Procesando el archivo ParticipantStatusLogs40.csv\n",
      "Procesando el archivo ParticipantStatusLogs41.csv\n",
      "Procesando el archivo ParticipantStatusLogs42.csv\n",
      "Procesando el archivo ParticipantStatusLogs43.csv\n",
      "Procesando el archivo ParticipantStatusLogs44.csv\n",
      "Procesando el archivo ParticipantStatusLogs45.csv\n",
      "Procesando el archivo ParticipantStatusLogs46.csv\n",
      "Procesando el archivo ParticipantStatusLogs47.csv\n",
      "Procesando el archivo ParticipantStatusLogs48.csv\n",
      "Procesando el archivo ParticipantStatusLogs49.csv\n",
      "Procesando el archivo ParticipantStatusLogs5.csv\n",
      "Procesando el archivo ParticipantStatusLogs50.csv\n",
      "Procesando el archivo ParticipantStatusLogs51.csv\n",
      "Procesando el archivo ParticipantStatusLogs52.csv\n",
      "Procesando el archivo ParticipantStatusLogs53.csv\n",
      "Procesando el archivo ParticipantStatusLogs54.csv\n",
      "Procesando el archivo ParticipantStatusLogs55.csv\n",
      "Procesando el archivo ParticipantStatusLogs56.csv\n",
      "Procesando el archivo ParticipantStatusLogs57.csv\n",
      "Procesando el archivo ParticipantStatusLogs58.csv\n",
      "Procesando el archivo ParticipantStatusLogs59.csv\n",
      "Procesando el archivo ParticipantStatusLogs6.csv\n",
      "Procesando el archivo ParticipantStatusLogs60.csv\n",
      "Procesando el archivo ParticipantStatusLogs61.csv\n",
      "Procesando el archivo ParticipantStatusLogs62.csv\n",
      "Procesando el archivo ParticipantStatusLogs63.csv\n",
      "Procesando el archivo ParticipantStatusLogs64.csv\n",
      "Procesando el archivo ParticipantStatusLogs65.csv\n",
      "Procesando el archivo ParticipantStatusLogs66.csv\n",
      "Procesando el archivo ParticipantStatusLogs67.csv\n",
      "Procesando el archivo ParticipantStatusLogs68.csv\n",
      "Procesando el archivo ParticipantStatusLogs69.csv\n",
      "Procesando el archivo ParticipantStatusLogs7.csv\n",
      "Procesando el archivo ParticipantStatusLogs70.csv\n",
      "Procesando el archivo ParticipantStatusLogs71.csv\n",
      "Procesando el archivo ParticipantStatusLogs72.csv\n",
      "Procesando el archivo ParticipantStatusLogs8.csv\n",
      "Procesando el archivo ParticipantStatusLogs9.csv\n"
     ]
    }
   ],
   "source": [
    "folders = ['./Datasets/Attributes/', './Datasets/Journals/', './Datasets/Activity Logs/'] \n",
    "for folder in folders:\n",
    "    for file in get_files(folder, '.csv'):\n",
    "      print('Procesando el archivo ' + str(file))\n",
    "      df = pd.read_csv(os.path.join(folder, file))\n",
    "      df.to_parquet(os.path.join(folder, file.replace('.csv', '.parquet')), compression='gzip')"
   ]
  },
  {
   "cell_type": "code",
   "execution_count": null,
   "id": "f11ea801-6c18-468a-a413-0460e08ee2b7",
   "metadata": {},
   "outputs": [],
   "source": []
  }
 ],
 "metadata": {
  "kernelspec": {
   "display_name": "Python 3",
   "language": "python",
   "name": "python3"
  },
  "language_info": {
   "codemirror_mode": {
    "name": "ipython",
    "version": 3
   },
   "file_extension": ".py",
   "mimetype": "text/x-python",
   "name": "python",
   "nbconvert_exporter": "python",
   "pygments_lexer": "ipython3",
   "version": "3.8.8"
  }
 },
 "nbformat": 4,
 "nbformat_minor": 5
}
